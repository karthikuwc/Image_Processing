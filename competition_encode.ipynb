{
 "cells": [
  {
   "cell_type": "code",
   "execution_count": 1,
   "metadata": {
    "scrolled": true
   },
   "outputs": [],
   "source": [
    "from helpers_jpeg import *\n",
    "from LBT_huffman import *\n",
    "from helpers import *\n",
    "import numpy as np\n",
    "import json"
   ]
  },
  {
   "cell_type": "code",
   "execution_count": 6,
   "metadata": {},
   "outputs": [],
   "source": [
    "lighthouse = sio.loadmat('mat/SF2_competition_image_2019.mat')\n",
    "lighthouse2 = sio.loadmat('mat/lighthouse.mat')\n",
    "flamingo = sio.loadmat('mat/flamingo.mat')\n",
    "bridge = sio.loadmat('mat/bridge.mat')\n",
    "X = np.array(lighthouse['X'], dtype=float)\n",
    "B = np.array(flamingo['X'], dtype=float)\n",
    "F = np.array(bridge['X'], dtype=float)\n",
    "G = np.array(lighthouse2['X'], dtype=float)\n",
    "images = {\n",
    "    'competition': X-128, \n",
    "    'flamingo': B-128, \n",
    "    'bridge': F-128,\n",
    "    'lighthouse': G-128\n",
    "    \n",
    "}"
   ]
  },
  {
   "cell_type": "code",
   "execution_count": 15,
   "metadata": {},
   "outputs": [],
   "source": [
    "def dwt(X, lo=1000, hi=10000, tol=2, max_iter=100, maxbits=40960, n=3):\n",
    "    '''Return: compressed image, file size'''\n",
    "    i = 0\n",
    "    dwt = DwtHuffmanHelper()\n",
    "    while i < max_iter:\n",
    "        mid = (lo + hi) / 2\n",
    "        vlc, _bits, _huffval = dwt.dwtenc(X, mid, n=n)\n",
    "        current_bits = sum(vlc[:, 1])\n",
    "        if sum(vlc[:, 1]) > maxbits:\n",
    "            lo = mid\n",
    "        else:\n",
    "            hi = mid\n",
    "            if abs(current_bits - maxbits) < tol:\n",
    "                print('Best qstep:', mid)\n",
    "                return vlc, current_bits, mid\n",
    "        i += 1\n",
    "        print('Step: ', mid, 'Bits:', current_bits)\n",
    "    if sum(vlc[:, 1]) > maxbits:\n",
    "        print('Cannot compress under {} bits!'.format(maxbits))\n",
    "    return vlc, sum(vlc[:, 1]), mid"
   ]
  },
  {
   "cell_type": "code",
   "execution_count": 19,
   "metadata": {
    "scrolled": true
   },
   "outputs": [
    {
     "name": "stdout",
     "output_type": "stream",
     "text": [
      "Step:  5500.0 Bits: 25029\n",
      "Step:  3250.0 Bits: 51927\n",
      "Step:  4375.0 Bits: 35884\n",
      "Step:  3812.5 Bits: 42894\n",
      "Step:  4093.75 Bits: 39198\n",
      "Step:  3953.125 Bits: 41057\n",
      "Step:  4023.4375 Bits: 40139\n",
      "Step:  3988.28125 Bits: 40633\n",
      "Best qstep: 3970.703125\n",
      "Size: 40802 bits\n",
      "Step:  5500.0 Bits: 36378\n",
      "Step:  3250.0 Bits: 58882\n",
      "Step:  4375.0 Bits: 45273\n",
      "Step:  4937.5 Bits: 40173\n",
      "Step:  4656.25 Bits: 42855\n",
      "Step:  4796.875 Bits: 41624\n",
      "Step:  4867.1875 Bits: 41090\n",
      "Step:  4902.34375 Bits: 40504\n",
      "Best qstep: 4884.765625\n",
      "Size: 40835 bits\n",
      "Step:  5500.0 Bits: 28725\n",
      "Step:  3250.0 Bits: 58746\n",
      "Step:  4375.0 Bits: 41123\n",
      "Step:  4937.5 Bits: 34619\n",
      "Step:  4656.25 Bits: 37578\n",
      "Step:  4515.625 Bits: 39457\n",
      "Step:  4445.3125 Bits: 40342\n",
      "Step:  4410.15625 Bits: 40614\n",
      "Best qstep: 4392.578125\n",
      "Size: 40922 bits\n",
      "Step:  5500.0 Bits: 28923\n",
      "Step:  3250.0 Bits: 47474\n",
      "Step:  4375.0 Bits: 36587\n",
      "Step:  3812.5 Bits: 41588\n",
      "Step:  4093.75 Bits: 38839\n",
      "Step:  3953.125 Bits: 40222\n",
      "Best qstep: 3882.8125\n",
      "Size: 40860 bits\n"
     ]
    }
   ],
   "source": [
    "result = {}\n",
    "for img in images:\n",
    "    vlc, bits, qstep = dwt(images[img], lo=1000, hi=10000, tol=300, n=4)\n",
    "    print('Size: {} bits'.format(bits))\n",
    "    result[img + 'vlc'] = vlc\n",
    "    result[img + 'qstep'] = qstep"
   ]
  },
  {
   "cell_type": "code",
   "execution_count": 20,
   "metadata": {},
   "outputs": [],
   "source": [
    "sio.savemat('competition_out/json/dwt4.mat', result)"
   ]
  },
  {
   "cell_type": "code",
   "execution_count": 11,
   "metadata": {},
   "outputs": [],
   "source": [
    "def lbt16(X, N=16, M=16, lo=0, hi=128, tol=2, max_iter=100, maxbits=40960):\n",
    "    '''Return: compressed image, file size'''\n",
    "    i = 0\n",
    "    lbt = LBTHuffman()\n",
    "    while i < max_iter:\n",
    "        mid = (lo + hi) / 2\n",
    "        vlc, _bits, _huffval = lbt.lbthuffenc(X, mid, N=N, M=M, log=False)\n",
    "        current_bits = sum(vlc[:, 1])\n",
    "        if sum(vlc[:, 1]) > maxbits:\n",
    "            lo = mid\n",
    "        else:\n",
    "            hi = mid\n",
    "            if abs(current_bits - maxbits) < tol:\n",
    "                print('Best qstep:', mid)\n",
    "                return vlc, current_bits, mid\n",
    "        i += 1\n",
    "        print('Step: ', mid, 'Bits:', current_bits)\n",
    "    if sum(vlc[:, 1]) > maxbits:\n",
    "        print('Cannot compress under {} bits!'.format(maxbits))\n",
    "    return vlc, sum(vlc[:, 1]), mid"
   ]
  },
  {
   "cell_type": "code",
   "execution_count": 14,
   "metadata": {
    "scrolled": true
   },
   "outputs": [
    {
     "name": "stdout",
     "output_type": "stream",
     "text": [
      "Step:  64.0 Bits: 31854\n",
      "Step:  32.0 Bits: 68238\n",
      "Step:  48.0 Bits: 44539\n",
      "Step:  56.0 Bits: 37255\n",
      "Step:  52.0 Bits: 40314\n",
      "Step:  50.0 Bits: 42334\n",
      "Step:  51.0 Bits: 41379\n",
      "Step:  51.5 Bits: 40836\n",
      "Step:  51.25 Bits: 40965\n",
      "Best qstep: 51.375\n",
      "Size: 40905 bits\n",
      "Step:  64.0 Bits: 47294\n",
      "Step:  96.0 Bits: 34203\n",
      "Step:  80.0 Bits: 39678\n",
      "Step:  72.0 Bits: 42979\n",
      "Step:  76.0 Bits: 41177\n",
      "Step:  78.0 Bits: 40540\n",
      "Step:  77.0 Bits: 40772\n",
      "Step:  76.5 Bits: 40996\n",
      "Best qstep: 76.75\n",
      "Size: 40952 bits\n",
      "Step:  64.0 Bits: 35758\n",
      "Step:  32.0 Bits: 76556\n",
      "Step:  48.0 Bits: 50796\n",
      "Step:  56.0 Bits: 42539\n",
      "Step:  60.0 Bits: 39216\n",
      "Step:  58.0 Bits: 40830\n",
      "Step:  57.0 Bits: 41504\n",
      "Step:  57.5 Bits: 41183\n",
      "Step:  57.75 Bits: 41082\n",
      "Step:  57.875 Bits: 40970\n",
      "Step:  57.9375 Bits: 40882\n",
      "Step:  57.90625 Bits: 40894\n",
      "Best qstep: 57.890625\n",
      "Size: 40918 bits\n",
      "Step:  64.0 Bits: 35474\n",
      "Step:  32.0 Bits: 60670\n",
      "Step:  48.0 Bits: 44804\n",
      "Step:  56.0 Bits: 39825\n",
      "Step:  52.0 Bits: 41947\n",
      "Best qstep: 54.0\n",
      "Size: 40924 bits\n"
     ]
    }
   ],
   "source": [
    "result = {}\n",
    "for img in images:\n",
    "    vlc, bits, qstep = lbt16(images[img], tol=64, N=4, M=16)\n",
    "    print('Size: {} bits'.format(bits))\n",
    "    result[img + 'vlc'] = vlc\n",
    "    result[img + 'qstep'] = qstep\n",
    "sio.savemat('competition_out/json/lbt16x4.mat', result)"
   ]
  },
  {
   "cell_type": "code",
   "execution_count": 3,
   "metadata": {},
   "outputs": [],
   "source": [
    "def jpeg16(X, N=16, M=16, lo=0, hi=128, tol=2, max_iter = 1000, maxbits=40960):\n",
    "    '''Return: compressed image, file size'''\n",
    "    i = 0\n",
    "    jpg = JpegHuffmanHelper()\n",
    "    while i < max_iter:\n",
    "        mid = (lo + hi) / 2\n",
    "        vlc, _bits, _huffval = jpg.jpegenc(X, mid, N=N, M=M, log=False)\n",
    "        current_bits = sum(vlc[:, 1])\n",
    "        if sum(vlc[:, 1]) > maxbits:\n",
    "            lo = mid\n",
    "        else:\n",
    "            hi = mid\n",
    "            if abs(current_bits - maxbits) < tol:\n",
    "                print('Best qstep:', mid)\n",
    "                return vlc, current_bits, mid\n",
    "        i += 1\n",
    "        print('Step: ', mid, 'Bits:', current_bits)\n",
    "    if sum(vlc[:, 1]) > maxbits:\n",
    "        print('Cannot compress under {} bits!'.format(maxbits))\n",
    "    return vlc, sum(vlc[:, 1]), mid"
   ]
  },
  {
   "cell_type": "code",
   "execution_count": 10,
   "metadata": {
    "scrolled": false
   },
   "outputs": [
    {
     "name": "stdout",
     "output_type": "stream",
     "text": [
      "Step:  64.0 Bits: 22298\n",
      "Step:  32.0 Bits: 64050\n",
      "Step:  48.0 Bits: 38504\n",
      "Step:  40.0 Bits: 45126\n",
      "Step:  44.0 Bits: 40477\n",
      "Step:  42.0 Bits: 43846\n",
      "Step:  43.0 Bits: 43298\n",
      "Step:  43.5 Bits: 42984\n",
      "Step:  43.75 Bits: 40622\n",
      "Best qstep: 43.625\n",
      "Size: 40678 bits\n"
     ]
    },
    {
     "ename": "ValueError",
     "evalue": "DC coefficients too large for desired number of bits",
     "output_type": "error",
     "traceback": [
      "\u001b[0;31m---------------------------------------------------------------------------\u001b[0m",
      "\u001b[0;31mValueError\u001b[0m                                Traceback (most recent call last)",
      "\u001b[0;32m<ipython-input-10-e165c80f3ec2>\u001b[0m in \u001b[0;36m<module>\u001b[0;34m\u001b[0m\n\u001b[1;32m      1\u001b[0m \u001b[0mresult\u001b[0m \u001b[0;34m=\u001b[0m \u001b[0;34m{\u001b[0m\u001b[0;34m}\u001b[0m\u001b[0;34m\u001b[0m\u001b[0;34m\u001b[0m\u001b[0m\n\u001b[1;32m      2\u001b[0m \u001b[0;32mfor\u001b[0m \u001b[0mimg\u001b[0m \u001b[0;32min\u001b[0m \u001b[0mimages\u001b[0m\u001b[0;34m:\u001b[0m\u001b[0;34m\u001b[0m\u001b[0;34m\u001b[0m\u001b[0m\n\u001b[0;32m----> 3\u001b[0;31m     \u001b[0mvlc\u001b[0m\u001b[0;34m,\u001b[0m \u001b[0mbits\u001b[0m\u001b[0;34m,\u001b[0m \u001b[0mqstep\u001b[0m \u001b[0;34m=\u001b[0m \u001b[0mjpeg16\u001b[0m\u001b[0;34m(\u001b[0m\u001b[0mimages\u001b[0m\u001b[0;34m[\u001b[0m\u001b[0mimg\u001b[0m\u001b[0;34m]\u001b[0m\u001b[0;34m,\u001b[0m \u001b[0mN\u001b[0m\u001b[0;34m=\u001b[0m\u001b[0;36m256\u001b[0m\u001b[0;34m,\u001b[0m\u001b[0mM\u001b[0m\u001b[0;34m=\u001b[0m\u001b[0;36m256\u001b[0m\u001b[0;34m,\u001b[0m \u001b[0mtol\u001b[0m\u001b[0;34m=\u001b[0m\u001b[0;36m300\u001b[0m\u001b[0;34m)\u001b[0m\u001b[0;34m\u001b[0m\u001b[0;34m\u001b[0m\u001b[0m\n\u001b[0m\u001b[1;32m      4\u001b[0m     \u001b[0mprint\u001b[0m\u001b[0;34m(\u001b[0m\u001b[0;34m'Size: {} bits'\u001b[0m\u001b[0;34m.\u001b[0m\u001b[0mformat\u001b[0m\u001b[0;34m(\u001b[0m\u001b[0mbits\u001b[0m\u001b[0;34m)\u001b[0m\u001b[0;34m)\u001b[0m\u001b[0;34m\u001b[0m\u001b[0;34m\u001b[0m\u001b[0m\n\u001b[1;32m      5\u001b[0m     \u001b[0mresult\u001b[0m\u001b[0;34m[\u001b[0m\u001b[0mimg\u001b[0m \u001b[0;34m+\u001b[0m \u001b[0;34m'vlc'\u001b[0m\u001b[0;34m]\u001b[0m \u001b[0;34m=\u001b[0m \u001b[0mvlc\u001b[0m\u001b[0;34m\u001b[0m\u001b[0;34m\u001b[0m\u001b[0m\n",
      "\u001b[0;32m<ipython-input-3-5036244c1b30>\u001b[0m in \u001b[0;36mjpeg16\u001b[0;34m(X, N, M, lo, hi, tol, max_iter, maxbits)\u001b[0m\n\u001b[1;32m      5\u001b[0m     \u001b[0;32mwhile\u001b[0m \u001b[0mi\u001b[0m \u001b[0;34m<\u001b[0m \u001b[0mmax_iter\u001b[0m\u001b[0;34m:\u001b[0m\u001b[0;34m\u001b[0m\u001b[0;34m\u001b[0m\u001b[0m\n\u001b[1;32m      6\u001b[0m         \u001b[0mmid\u001b[0m \u001b[0;34m=\u001b[0m \u001b[0;34m(\u001b[0m\u001b[0mlo\u001b[0m \u001b[0;34m+\u001b[0m \u001b[0mhi\u001b[0m\u001b[0;34m)\u001b[0m \u001b[0;34m/\u001b[0m \u001b[0;36m2\u001b[0m\u001b[0;34m\u001b[0m\u001b[0;34m\u001b[0m\u001b[0m\n\u001b[0;32m----> 7\u001b[0;31m         \u001b[0mvlc\u001b[0m\u001b[0;34m,\u001b[0m \u001b[0m_bits\u001b[0m\u001b[0;34m,\u001b[0m \u001b[0m_huffval\u001b[0m \u001b[0;34m=\u001b[0m \u001b[0mjpg\u001b[0m\u001b[0;34m.\u001b[0m\u001b[0mjpegenc\u001b[0m\u001b[0;34m(\u001b[0m\u001b[0mX\u001b[0m\u001b[0;34m,\u001b[0m \u001b[0mmid\u001b[0m\u001b[0;34m,\u001b[0m \u001b[0mN\u001b[0m\u001b[0;34m=\u001b[0m\u001b[0mN\u001b[0m\u001b[0;34m,\u001b[0m \u001b[0mM\u001b[0m\u001b[0;34m=\u001b[0m\u001b[0mM\u001b[0m\u001b[0;34m,\u001b[0m \u001b[0mlog\u001b[0m\u001b[0;34m=\u001b[0m\u001b[0;32mFalse\u001b[0m\u001b[0;34m)\u001b[0m\u001b[0;34m\u001b[0m\u001b[0;34m\u001b[0m\u001b[0m\n\u001b[0m\u001b[1;32m      8\u001b[0m         \u001b[0mcurrent_bits\u001b[0m \u001b[0;34m=\u001b[0m \u001b[0msum\u001b[0m\u001b[0;34m(\u001b[0m\u001b[0mvlc\u001b[0m\u001b[0;34m[\u001b[0m\u001b[0;34m:\u001b[0m\u001b[0;34m,\u001b[0m \u001b[0;36m1\u001b[0m\u001b[0;34m]\u001b[0m\u001b[0;34m)\u001b[0m\u001b[0;34m\u001b[0m\u001b[0;34m\u001b[0m\u001b[0m\n\u001b[1;32m      9\u001b[0m         \u001b[0;32mif\u001b[0m \u001b[0msum\u001b[0m\u001b[0;34m(\u001b[0m\u001b[0mvlc\u001b[0m\u001b[0;34m[\u001b[0m\u001b[0;34m:\u001b[0m\u001b[0;34m,\u001b[0m \u001b[0;36m1\u001b[0m\u001b[0;34m]\u001b[0m\u001b[0;34m)\u001b[0m \u001b[0;34m>\u001b[0m \u001b[0mmaxbits\u001b[0m\u001b[0;34m:\u001b[0m\u001b[0;34m\u001b[0m\u001b[0;34m\u001b[0m\u001b[0m\n",
      "\u001b[0;32m~/Documents/MasterFile/Cambridge/IIA/SF2 Image Processing/SF2-image-processing/src/helpers_jpeg.py\u001b[0m in \u001b[0;36mjpegenc\u001b[0;34m(self, X, qstep, N, M, opthuff, dcbits, log)\u001b[0m\n\u001b[1;32m    471\u001b[0m                 \u001b[0;32mif\u001b[0m \u001b[0myqflat\u001b[0m\u001b[0;34m[\u001b[0m\u001b[0;36m0\u001b[0m\u001b[0;34m]\u001b[0m \u001b[0;34m<\u001b[0m \u001b[0;36m0\u001b[0m \u001b[0;32mor\u001b[0m \u001b[0myqflat\u001b[0m\u001b[0;34m[\u001b[0m\u001b[0;36m0\u001b[0m\u001b[0;34m]\u001b[0m \u001b[0;34m>\u001b[0m \u001b[0;34m(\u001b[0m\u001b[0;36m2\u001b[0m\u001b[0;34m**\u001b[0m\u001b[0mdcbits\u001b[0m\u001b[0;34m)\u001b[0m \u001b[0;34m-\u001b[0m \u001b[0;36m1\u001b[0m\u001b[0;34m:\u001b[0m\u001b[0;34m\u001b[0m\u001b[0;34m\u001b[0m\u001b[0m\n\u001b[1;32m    472\u001b[0m                     raise ValueError(\n\u001b[0;32m--> 473\u001b[0;31m                         'DC coefficients too large for desired number of bits')\n\u001b[0m\u001b[1;32m    474\u001b[0m                 \u001b[0mdccoef\u001b[0m \u001b[0;34m=\u001b[0m \u001b[0mnp\u001b[0m\u001b[0;34m.\u001b[0m\u001b[0marray\u001b[0m\u001b[0;34m(\u001b[0m\u001b[0;34m[\u001b[0m\u001b[0;34m[\u001b[0m\u001b[0myqflat\u001b[0m\u001b[0;34m[\u001b[0m\u001b[0;36m0\u001b[0m\u001b[0;34m]\u001b[0m\u001b[0;34m,\u001b[0m \u001b[0mdcbits\u001b[0m\u001b[0;34m]\u001b[0m\u001b[0;34m]\u001b[0m\u001b[0;34m)\u001b[0m\u001b[0;34m\u001b[0m\u001b[0;34m\u001b[0m\u001b[0m\n\u001b[1;32m    475\u001b[0m                 \u001b[0;31m# Encode the other AC coefficients in scan order\u001b[0m\u001b[0;34m\u001b[0m\u001b[0;34m\u001b[0m\u001b[0;34m\u001b[0m\u001b[0m\n",
      "\u001b[0;31mValueError\u001b[0m: DC coefficients too large for desired number of bits"
     ]
    }
   ],
   "source": [
    "result = {}\n",
    "for img in images:\n",
    "    vlc, bits, qstep = jpeg16(images[img], N=256,M=256, tol=300)\n",
    "    print('Size: {} bits'.format(bits))\n",
    "    result[img + 'vlc'] = vlc\n",
    "    result[img + 'qstep'] = qstep\n",
    "sio.savemat('competition_out/json/jpeg256x256.mat', result)"
   ]
  },
  {
   "cell_type": "code",
   "execution_count": null,
   "metadata": {},
   "outputs": [],
   "source": []
  }
 ],
 "metadata": {
  "kernelspec": {
   "display_name": "Python 3",
   "language": "python",
   "name": "python3"
  },
  "language_info": {
   "codemirror_mode": {
    "name": "ipython",
    "version": 3
   },
   "file_extension": ".py",
   "mimetype": "text/x-python",
   "name": "python",
   "nbconvert_exporter": "python",
   "pygments_lexer": "ipython3",
   "version": "3.6.8"
  }
 },
 "nbformat": 4,
 "nbformat_minor": 2
}
